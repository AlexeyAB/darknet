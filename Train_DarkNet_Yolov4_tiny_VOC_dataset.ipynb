{
  "nbformat": 4,
  "nbformat_minor": 0,
  "metadata": {
    "colab": {
      "name": "Train_DarkNet_Yolov4-tiny_VOC_dataset.ipynb",
      "provenance": [],
      "collapsed_sections": [],
      "authorship_tag": "ABX9TyOumMGTBCuqOrFf+YZbwZMy",
      "include_colab_link": true
    },
    "kernelspec": {
      "name": "python3",
      "display_name": "Python 3"
    },
    "accelerator": "GPU"
  },
  "cells": [
    {
      "cell_type": "markdown",
      "metadata": {
        "id": "view-in-github",
        "colab_type": "text"
      },
      "source": [
        "<a href=\"https://colab.research.google.com/github/JinFree/darknet/blob/master/Train_DarkNet_Yolov4_tiny_VOC_dataset.ipynb\" target=\"_parent\"><img src=\"https://colab.research.google.com/assets/colab-badge.svg\" alt=\"Open In Colab\"/></a>"
      ]
    },
    {
      "cell_type": "markdown",
      "metadata": {
        "id": "l4wf_5XdhSMF"
      },
      "source": [
        "별도로 복사해 둔 DarkNet 저장소를 받아온 후 빌드하겠습니다.\r\n",
        "nvidia-smi를 통해 나오는 GPU Name을 확인해두어야 합니다."
      ]
    },
    {
      "cell_type": "code",
      "metadata": {
        "id": "AJRFYy45gFM2"
      },
      "source": [
        "!git clone https://github.com/JinFree/darknet.git\r\n",
        "!cp darknet/Makefile_Colab darknet/Makefile \r\n",
        "!nvidia-smi"
      ],
      "execution_count": null,
      "outputs": []
    },
    {
      "cell_type": "markdown",
      "metadata": {
        "id": "BTMhWe29hdI9"
      },
      "source": [
        "DarkNet을 빌드합니다.\r\n",
        "만약 빌드 중 문제가 생기면 Makefile의 20번 줄 ARCH을 확인한 후 위에서 확인한 GPU 이름의 CUDA Compute Capability를 확인하여 수정해주시면 되겠습니다."
      ]
    },
    {
      "cell_type": "code",
      "metadata": {
        "id": "EVkgrlfGhEUL"
      },
      "source": [
        "!cd darknet && make -j$(nproc)"
      ],
      "execution_count": null,
      "outputs": []
    },
    {
      "cell_type": "markdown",
      "metadata": {
        "id": "pw-ea2tZicPd"
      },
      "source": [
        "아래 셀을 실행했을 때 bycycle, person, dog, truck, car에 대한 객체 인식 결과를 확인할 수 있다면 DarkNet 빌드가 정상적으로 수행 된 것입니다.\r\n",
        "\r\n",
        "아래와 유사하게 출력됩니다.\r\n",
        "\r\n",
        "----\r\n",
        "\r\n",
        "data/dog.jpg: Predicted in 5.928000 milli-seconds.\r\n",
        "\r\n",
        "bicycle: 29%\r\n",
        "\r\n",
        "person: 25%\r\n",
        "\r\n",
        "dog: 72%\r\n",
        "\r\n",
        "truck: 82%\r\n",
        "\r\n",
        "car: 46%\r\n",
        "\r\n",
        "----\r\n"
      ]
    },
    {
      "cell_type": "code",
      "metadata": {
        "id": "7qGYH_Buh9op"
      },
      "source": [
        "!cd darknet \\\r\n",
        "&& ./darknet detect cfg/yolov4-tiny.cfg bin/yolov4-tiny.weights data/dog.jpg"
      ],
      "execution_count": null,
      "outputs": []
    },
    {
      "cell_type": "markdown",
      "metadata": {
        "id": "XJ68nRk_i5G2"
      },
      "source": [
        "데이터셋을 준비하겠습니다. 약 5분이 소요됩니다."
      ]
    },
    {
      "cell_type": "code",
      "metadata": {
        "id": "QBtBL69DibR8"
      },
      "source": [
        "!wget http://pjreddie.com/media/files/VOCtrainval_11-May-2012.tar\r\n",
        "!tar -xf VOCtrainval_11-May-2012.tar\r\n",
        "!rm VOCtrainval_11-May-2012.tar"
      ],
      "execution_count": null,
      "outputs": []
    },
    {
      "cell_type": "markdown",
      "metadata": {
        "id": "dzvjKSBnjR2Q"
      },
      "source": [
        "다운받은 데이터셋은 Pascal VOC 데이터셋입니다. 이를 DarkNet에서 훈련할 때 사용하기 위해서는 xml 파일로 되어있는 라벨 파일을 txt 파일로 바꿔주어야 합니다.\r\n",
        "\r\n",
        "이를 수행할 수 있는 깃헙 저장소를 받은 후 실행하겠습니다."
      ]
    },
    {
      "cell_type": "code",
      "metadata": {
        "id": "RLhEswLPjNA3"
      },
      "source": [
        "!git clone https://github.com/ssaru/convert2Yolo.git\r\n",
        "!cp darknet/vocnames.txt ./vocnames.txt\r\n",
        "!mkdir VOCdevkit/VOC2012/labels/\r\n",
        "!cd convert2Yolo && python3 example.py --datasets VOC \\\r\n",
        "--img_path ../VOCdevkit/VOC2012/JPEGImages/ \\\r\n",
        "--label ../VOCdevkit/VOC2012/Annotations/ \\\r\n",
        "--convert_output_path ../VOCdevkit/VOC2012/labels/ \\\r\n",
        "--img_type \".jpg\" \\\r\n",
        "--manifest_path ../ \\\r\n",
        "--cls_list_file ../vocnames.txt"
      ],
      "execution_count": null,
      "outputs": []
    },
    {
      "cell_type": "markdown",
      "metadata": {
        "id": "_6Zy0L-SkTxx"
      },
      "source": [
        "Yolov4-tiny 훈련을 위해 전이학습할 가중치를 받아온 후 VOC 데이터셋을 학습할 수 있도록 수정한 yolov4-tiny_voc.cfg 파일을 준비합니다.\r\n",
        "\r\n",
        "아래는 yolov4-tiny_voc.cfg 파일에 대한 설명입니다.\r\n",
        "\r\n",
        "----\r\n",
        "\r\n",
        "해당 파일 내 있는 두 개의 yolo 레이어에서 클래스 수를 20으로 수정했습니다.\r\n",
        "\r\n",
        "이후 yolo레이어 바로 위의 convolutional 레이어에서 filters 수를 75로 수정했습니다.\r\n",
        "\r\n",
        "75는 ( 5 + 20 ) * 3을 통해 계산되었습니다.\r\n",
        "\r\n",
        "----"
      ]
    },
    {
      "cell_type": "code",
      "metadata": {
        "id": "h_QJhjxljpoG"
      },
      "source": [
        "!mkdir backup && cd backup && wget https://github.com/AlexeyAB/darknet/releases/download/darknet_yolo_v4_pre/yolov4-tiny.conv.29\r\n",
        "!cp darknet/yolov4-tiny_voc.cfg ./yolov4-tiny_voc.cfg"
      ],
      "execution_count": null,
      "outputs": []
    },
    {
      "cell_type": "markdown",
      "metadata": {
        "id": "UsS_u7nIl7_3"
      },
      "source": [
        "훈련을 위한 vocdata_colab.txt 파일을 준비합니다.\r\n",
        "\r\n",
        "훈련할 클래스의 수, 훈련할 데이터셋의 리스트가 적힌 파일의 경로, 클래스의 이름, 훈련 중 가중치가 저장될 폴더의 경로가 아래와 같이 적혀있습니다.\r\n",
        "\r\n",
        "---\r\n",
        "\r\n",
        "classes = 20\r\n",
        "\r\n",
        "train = /content/manifest.txt\r\n",
        "\r\n",
        "names = /content/vocnames.txt\r\n",
        "\r\n",
        "backup = /content/backup\r\n",
        "\r\n",
        "---"
      ]
    },
    {
      "cell_type": "code",
      "metadata": {
        "id": "TSqGbCi6l7s_"
      },
      "source": [
        "!cp darknet/vocdata_colab.txt ./vocdata_colab.txt"
      ],
      "execution_count": 8,
      "outputs": []
    },
    {
      "cell_type": "markdown",
      "metadata": {
        "id": "hyCuhdxAleeX"
      },
      "source": [
        "훈련을 수행합니다.\r\n",
        "\r\n",
        "훈련은 약 두시간정도 수행하면 됩니다.\r\n",
        "\r\n",
        "훈련하면서 출력되는 로그는 train_log.txt로 저장됩니다."
      ]
    },
    {
      "cell_type": "code",
      "metadata": {
        "id": "khF3_hB7kBpv"
      },
      "source": [
        "!cd darknet && ./darknet detector train ../vocdata_colab.txt ../yolov4-tiny_voc.cfg ../backup/yolov4-tiny.conv.29 -dont_show  2&> train_log.txt"
      ],
      "execution_count": null,
      "outputs": []
    },
    {
      "cell_type": "markdown",
      "metadata": {
        "id": "8ped6YhHorfr"
      },
      "source": [
        "훈련이 어느정도 수행되면 훈련을 중지하셔도 됩니다.\r\n",
        "\r\n",
        "직접 추론하기 위해서 필요한 파일은 아래의 네 가지 파일입니다.\r\n",
        "\r\n",
        "----\r\n",
        "\r\n",
        "darknet/vocdata.txt\r\n",
        "\r\n",
        "vocnames.txt\r\n",
        "\r\n",
        "yolov4-tiny_voc.cfg\r\n",
        "\r\n",
        "backup/yolov4-tiny_voc_last.weights\r\n",
        "\r\n",
        "----\r\n",
        "\r\n",
        "만약 추가적으로 학습을 하고자 하는 경우, 아래의 셀을 실행하면 됩니다."
      ]
    },
    {
      "cell_type": "code",
      "metadata": {
        "id": "LVsJOTL7ldgH"
      },
      "source": [
        "!cd darknet && ./darknet detector train ../vocdata_colab.txt ../yolov4-tiny_voc.cfg ../backup/yolov4-tiny_voc_last.weights -dont_show  2&> train_log.txt"
      ],
      "execution_count": null,
      "outputs": []
    }
  ]
}
